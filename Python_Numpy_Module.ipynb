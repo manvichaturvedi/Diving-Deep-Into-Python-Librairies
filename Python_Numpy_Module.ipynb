{
 "cells": [
  {
   "cell_type": "markdown",
   "id": "23d77a65",
   "metadata": {},
   "source": [
    "# Numpy - Numerical Python"
   ]
  },
  {
   "cell_type": "markdown",
   "id": "dbe4c014",
   "metadata": {},
   "source": [
    "A Python Library used for working with Arrays.It was created in 2005 by Travis Oliphant.In python we also have lists but there are generally slow to process so numpy is almost 50x faster then usuall lists. Numpy is faster then lists because arrays are stored in contiguous location(locality of reference) in numpy unlike lists which makes numpy faster ."
   ]
  },
  {
   "cell_type": "markdown",
   "id": "bcbcb17e",
   "metadata": {},
   "source": [
    "# Installing Numpy Using   -   "
   ]
  },
  {
   "cell_type": "code",
   "execution_count": 1,
   "id": "1168eefb",
   "metadata": {},
   "outputs": [
    {
     "name": "stdout",
     "output_type": "stream",
     "text": [
      "Requirement already satisfied: numpy in d:\\anaconda navigator\\lib\\site-packages (1.23.5)Note: you may need to restart the kernel to use updated packages.\n",
      "\n"
     ]
    }
   ],
   "source": [
    "pip install numpy"
   ]
  },
  {
   "cell_type": "code",
   "execution_count": 2,
   "id": "a07cee00",
   "metadata": {},
   "outputs": [],
   "source": [
    "#import numpy using np as alias\n",
    "import numpy as np"
   ]
  },
  {
   "cell_type": "code",
   "execution_count": 3,
   "id": "8e8abe4f",
   "metadata": {},
   "outputs": [
    {
     "data": {
      "text/plain": [
       "array([1, 2, 3, 4, 5, 6])"
      ]
     },
     "execution_count": 3,
     "metadata": {},
     "output_type": "execute_result"
    }
   ],
   "source": [
    "#creating my first array\n",
    "arr = np.array([1,2,3,4,5,6])\n",
    "arr"
   ]
  },
  {
   "cell_type": "code",
   "execution_count": 4,
   "id": "a62ca71d",
   "metadata": {},
   "outputs": [
    {
     "data": {
      "text/plain": [
       "'1.23.5'"
      ]
     },
     "execution_count": 4,
     "metadata": {},
     "output_type": "execute_result"
    }
   ],
   "source": [
    "#check numpy version \n",
    "np.__version__"
   ]
  },
  {
   "cell_type": "markdown",
   "id": "f3f26cd3",
   "metadata": {},
   "source": [
    "# Numpy Arrays"
   ]
  },
  {
   "cell_type": "code",
   "execution_count": 5,
   "id": "c84b5b78",
   "metadata": {},
   "outputs": [
    {
     "name": "stdout",
     "output_type": "stream",
     "text": [
      "[0 4 8 9]\n"
     ]
    },
    {
     "data": {
      "text/plain": [
       "numpy.ndarray"
      ]
     },
     "execution_count": 5,
     "metadata": {},
     "output_type": "execute_result"
    }
   ],
   "source": [
    "#array() function is used to create numpy ndarray\n",
    "arr = np.array([0,4,8,9])\n",
    "print(arr)\n",
    "type(arr)"
   ]
  },
  {
   "cell_type": "markdown",
   "id": "8b97e55a",
   "metadata": {},
   "source": [
    "# Array Dimensions\n",
    "Dimensions in array are mainly of 3 types - 1d, 2d, 3d etc."
   ]
  },
  {
   "cell_type": "markdown",
   "id": "dd8c82d6",
   "metadata": {},
   "source": [
    "# 0-D Array\n",
    "0-D arrays are scalors i.e each value in it is a o-d array"
   ]
  },
  {
   "cell_type": "code",
   "execution_count": 6,
   "id": "f28addd2",
   "metadata": {},
   "outputs": [
    {
     "name": "stdout",
     "output_type": "stream",
     "text": [
      "42\n"
     ]
    }
   ],
   "source": [
    "arr_0 = np.array(42)\n",
    "print(arr_0)"
   ]
  },
  {
   "cell_type": "markdown",
   "id": "55649b32",
   "metadata": {},
   "source": [
    "# 1-D Array\n",
    "\n"
   ]
  },
  {
   "cell_type": "code",
   "execution_count": 7,
   "id": "9c2a39f2",
   "metadata": {},
   "outputs": [
    {
     "data": {
      "text/plain": [
       "array([1, 5, 6, 7])"
      ]
     },
     "execution_count": 7,
     "metadata": {},
     "output_type": "execute_result"
    }
   ],
   "source": [
    "arr_1 = np.array([1,5,6,7])\n",
    "arr_1"
   ]
  },
  {
   "cell_type": "markdown",
   "id": "c0b2f08d",
   "metadata": {},
   "source": [
    "# 2-D Arrays"
   ]
  },
  {
   "cell_type": "code",
   "execution_count": 8,
   "id": "b9a9224c",
   "metadata": {},
   "outputs": [
    {
     "data": {
      "text/plain": [
       "array([[1, 2, 3],\n",
       "       [4, 5, 6]])"
      ]
     },
     "execution_count": 8,
     "metadata": {},
     "output_type": "execute_result"
    }
   ],
   "source": [
    "arr_2 = np.array([[1,2,3],[4,5,6]])\n",
    "arr_2"
   ]
  },
  {
   "cell_type": "markdown",
   "id": "e6d2fa04",
   "metadata": {},
   "source": [
    "# 3-D Arrays"
   ]
  },
  {
   "cell_type": "code",
   "execution_count": 9,
   "id": "d6de6ff7",
   "metadata": {},
   "outputs": [
    {
     "data": {
      "text/plain": [
       "array([[[ 1,  2,  3],\n",
       "        [ 4,  5,  6]],\n",
       "\n",
       "       [[ 7,  8,  9],\n",
       "        [10,  8,  6]]])"
      ]
     },
     "execution_count": 9,
     "metadata": {},
     "output_type": "execute_result"
    }
   ],
   "source": [
    "arr_3 = np.array([[[1,2,3],[4,5,6]],[[7,8,9],[10,8,6]]])\n",
    "arr_3"
   ]
  },
  {
   "cell_type": "code",
   "execution_count": 10,
   "id": "c17f2763",
   "metadata": {},
   "outputs": [
    {
     "name": "stdout",
     "output_type": "stream",
     "text": [
      "0\n",
      "1\n",
      "2\n"
     ]
    }
   ],
   "source": [
    "#ndim returns dimension that tell us how many dimensions the array have\n",
    "print(arr_0.ndim)\n",
    "print(arr_1.ndim)\n",
    "print(arr_2.ndim)"
   ]
  },
  {
   "cell_type": "markdown",
   "id": "63a648f8",
   "metadata": {},
   "source": [
    "# Higher Dimensional Arrays"
   ]
  },
  {
   "cell_type": "code",
   "execution_count": 11,
   "id": "27714a40",
   "metadata": {},
   "outputs": [
    {
     "name": "stdout",
     "output_type": "stream",
     "text": [
      "[[[[[4 5 6 7]]]]]\n"
     ]
    }
   ],
   "source": [
    "arr_HD = np.array([4,5,6,7], ndmin=5)\n",
    "print(arr_HD)"
   ]
  },
  {
   "cell_type": "markdown",
   "id": "5ed809b7",
   "metadata": {},
   "source": [
    "# Acessing Array Elements"
   ]
  },
  {
   "cell_type": "code",
   "execution_count": 12,
   "id": "10363fc8",
   "metadata": {},
   "outputs": [
    {
     "name": "stdout",
     "output_type": "stream",
     "text": [
      "1\n"
     ]
    }
   ],
   "source": [
    "arr = np.array([1,2,3,4])\n",
    "print(arr[0])"
   ]
  },
  {
   "cell_type": "code",
   "execution_count": 13,
   "id": "2a6904ae",
   "metadata": {},
   "outputs": [
    {
     "name": "stdout",
     "output_type": "stream",
     "text": [
      "5\n"
     ]
    }
   ],
   "source": [
    "print(arr[0]  + arr[3])"
   ]
  },
  {
   "cell_type": "code",
   "execution_count": 14,
   "id": "9c779a82",
   "metadata": {},
   "outputs": [
    {
     "data": {
      "text/plain": [
       "87"
      ]
     },
     "execution_count": 14,
     "metadata": {},
     "output_type": "execute_result"
    }
   ],
   "source": [
    "arr = np.array([[67,87,34],[23,56,78]])\n",
    "arr[0,1]"
   ]
  },
  {
   "cell_type": "code",
   "execution_count": 15,
   "id": "1396b7ab",
   "metadata": {},
   "outputs": [
    {
     "data": {
      "text/plain": [
       "6"
      ]
     },
     "execution_count": 15,
     "metadata": {},
     "output_type": "execute_result"
    }
   ],
   "source": [
    "arr_3[0,1,2]"
   ]
  },
  {
   "cell_type": "markdown",
   "id": "dd4899d3",
   "metadata": {},
   "source": [
    "# Array Slicing\n",
    "Slicing in python means taking elements from one given index to another given index\n",
    "[start : end]"
   ]
  },
  {
   "cell_type": "code",
   "execution_count": 16,
   "id": "33688a96",
   "metadata": {},
   "outputs": [
    {
     "data": {
      "text/plain": [
       "array([1, 5, 6])"
      ]
     },
     "execution_count": 16,
     "metadata": {},
     "output_type": "execute_result"
    }
   ],
   "source": [
    "arr_1[0:3]"
   ]
  },
  {
   "cell_type": "code",
   "execution_count": 17,
   "id": "c2f5bd3a",
   "metadata": {},
   "outputs": [
    {
     "data": {
      "text/plain": [
       "array([5, 6, 7])"
      ]
     },
     "execution_count": 17,
     "metadata": {},
     "output_type": "execute_result"
    }
   ],
   "source": [
    "arr_1[1:]"
   ]
  },
  {
   "cell_type": "code",
   "execution_count": 18,
   "id": "f758cc30",
   "metadata": {},
   "outputs": [
    {
     "data": {
      "text/plain": [
       "array([8, 9])"
      ]
     },
     "execution_count": 18,
     "metadata": {},
     "output_type": "execute_result"
    }
   ],
   "source": [
    "array_1 = np.array([4,5,6,7,8,9,0])\n",
    "array_1[-3:-1]"
   ]
  },
  {
   "cell_type": "markdown",
   "id": "2d591fa7",
   "metadata": {},
   "source": [
    "# Data Types In Numpy\n",
    ". i - integer\n",
    ". b - boolean\n",
    ". u = unsigned integer\n",
    ". f - float\n",
    ". c - complex float\n",
    ". m - timedelta\n",
    ". M - datetime\n",
    ". O - object\n",
    ". S - string\n",
    ". U - unicode string \n",
    ". V - fixed chunk of memory"
   ]
  },
  {
   "cell_type": "code",
   "execution_count": 19,
   "id": "13f4fc68",
   "metadata": {},
   "outputs": [
    {
     "data": {
      "text/plain": [
       "dtype('int32')"
      ]
     },
     "execution_count": 19,
     "metadata": {},
     "output_type": "execute_result"
    }
   ],
   "source": [
    "arr_1.dtype"
   ]
  },
  {
   "cell_type": "code",
   "execution_count": 20,
   "id": "b548662d",
   "metadata": {},
   "outputs": [
    {
     "data": {
      "text/plain": [
       "dtype('<U6')"
      ]
     },
     "execution_count": 20,
     "metadata": {},
     "output_type": "execute_result"
    }
   ],
   "source": [
    "arr_str = np.array(['apple', 'banana','cherry'])\n",
    "arr_str.dtype"
   ]
  },
  {
   "cell_type": "code",
   "execution_count": 21,
   "id": "093f7ec3",
   "metadata": {},
   "outputs": [
    {
     "data": {
      "text/plain": [
       "dtype('S1')"
      ]
     },
     "execution_count": 21,
     "metadata": {},
     "output_type": "execute_result"
    }
   ],
   "source": [
    "arr = np.array([1,2,3,4], dtype='S')\n",
    "arr.dtype"
   ]
  },
  {
   "cell_type": "code",
   "execution_count": 22,
   "id": "472e76e5",
   "metadata": {},
   "outputs": [],
   "source": [
    "newarr = arr.astype('i')"
   ]
  },
  {
   "cell_type": "code",
   "execution_count": 23,
   "id": "ed2bb76d",
   "metadata": {},
   "outputs": [
    {
     "data": {
      "text/plain": [
       "array([1, 2, 3, 4], dtype=int32)"
      ]
     },
     "execution_count": 23,
     "metadata": {},
     "output_type": "execute_result"
    }
   ],
   "source": [
    "newarr"
   ]
  },
  {
   "cell_type": "code",
   "execution_count": 24,
   "id": "b2fdc2dd",
   "metadata": {},
   "outputs": [
    {
     "name": "stdout",
     "output_type": "stream",
     "text": [
      "[56  4  5  6  7]\n",
      "[3 4 5 6 7]\n"
     ]
    }
   ],
   "source": [
    "arr = np.array([3,4,5,6,7])\n",
    "x = arr.copy()\n",
    "arr[0] = 56\n",
    "print(arr)\n",
    "print(x)"
   ]
  },
  {
   "cell_type": "markdown",
   "id": "7443d860",
   "metadata": {},
   "source": [
    "# Numpy array Shape"
   ]
  },
  {
   "cell_type": "code",
   "execution_count": 25,
   "id": "152d4fc7",
   "metadata": {},
   "outputs": [
    {
     "data": {
      "text/plain": [
       "(2, 2, 3)"
      ]
     },
     "execution_count": 25,
     "metadata": {},
     "output_type": "execute_result"
    }
   ],
   "source": [
    "arr_3.shape"
   ]
  },
  {
   "cell_type": "code",
   "execution_count": 26,
   "id": "c1273ad6",
   "metadata": {},
   "outputs": [
    {
     "name": "stdout",
     "output_type": "stream",
     "text": [
      "[[ 1  2  3]\n",
      " [ 4  5  6]\n",
      " [ 7  8  9]\n",
      " [10 11 12]]\n"
     ]
    }
   ],
   "source": [
    "arr = np.array([1,2,3,4,5,6,7,8,9,10,11,12])\n",
    "new_arr = arr.reshape(4,3)\n",
    "print(new_arr)"
   ]
  },
  {
   "cell_type": "markdown",
   "id": "60449939",
   "metadata": {},
   "source": [
    "# Iterating arrays"
   ]
  },
  {
   "cell_type": "code",
   "execution_count": 27,
   "id": "711fc7b6",
   "metadata": {},
   "outputs": [
    {
     "data": {
      "text/plain": [
       "array([4, 5, 2, 7, 9])"
      ]
     },
     "execution_count": 27,
     "metadata": {},
     "output_type": "execute_result"
    }
   ],
   "source": [
    "itr_array = np.array([4,5,2,7,9])\n",
    "itr_array"
   ]
  },
  {
   "cell_type": "code",
   "execution_count": 28,
   "id": "a5d3b27f",
   "metadata": {},
   "outputs": [
    {
     "name": "stdout",
     "output_type": "stream",
     "text": [
      "4\n",
      "5\n",
      "2\n",
      "7\n",
      "9\n"
     ]
    }
   ],
   "source": [
    "for p in itr_array :\n",
    "    print(p)"
   ]
  },
  {
   "cell_type": "code",
   "execution_count": 29,
   "id": "3907322f",
   "metadata": {},
   "outputs": [
    {
     "name": "stdout",
     "output_type": "stream",
     "text": [
      "[1 2 3]\n",
      "[4 5 6]\n"
     ]
    }
   ],
   "source": [
    "itr_arr2 = np.array([[1,2,3],[4,5,6]])\n",
    "for x in itr_arr2 :\n",
    "    print(x)"
   ]
  },
  {
   "cell_type": "code",
   "execution_count": 31,
   "id": "3f3befa5",
   "metadata": {},
   "outputs": [
    {
     "name": "stdout",
     "output_type": "stream",
     "text": [
      "1\n",
      "2\n",
      "3\n",
      "4\n",
      "5\n",
      "6\n"
     ]
    }
   ],
   "source": [
    "for x in itr_arr2 :\n",
    "    for y in x :\n",
    "        print(y)"
   ]
  },
  {
   "cell_type": "code",
   "execution_count": 33,
   "id": "ec7f6120",
   "metadata": {},
   "outputs": [
    {
     "name": "stdout",
     "output_type": "stream",
     "text": [
      "1\n",
      "2\n",
      "3\n",
      "4\n",
      "5\n",
      "6\n"
     ]
    }
   ],
   "source": [
    "for x in np.nditer(itr_arr2) :\n",
    "    print(x)"
   ]
  },
  {
   "cell_type": "markdown",
   "id": "1bd7a2d7",
   "metadata": {},
   "source": [
    "# Joining Numpy Arrays\n",
    "There are three methods which can be used for concatenation .These are Concatenate(), stack(), hstack(), vstack(),dstack() etc."
   ]
  },
  {
   "cell_type": "code",
   "execution_count": 36,
   "id": "e006838e",
   "metadata": {},
   "outputs": [
    {
     "name": "stdout",
     "output_type": "stream",
     "text": [
      "[[ 4  5 45 23]\n",
      " [67  8 12  5]]\n"
     ]
    }
   ],
   "source": [
    "arr1 = np.array([[4,5],[67,8]])\n",
    "arr2 = np.array([[45,23],[12,5]])\n",
    "arr = np.concatenate((arr1,arr2),axis=1)\n",
    "print(arr)"
   ]
  },
  {
   "cell_type": "code",
   "execution_count": 37,
   "id": "cb2c79c7",
   "metadata": {},
   "outputs": [],
   "source": [
    "arr_new = np.stack((arr1,arr2),axis=1)"
   ]
  },
  {
   "cell_type": "code",
   "execution_count": 38,
   "id": "71875689",
   "metadata": {},
   "outputs": [
    {
     "data": {
      "text/plain": [
       "array([[[ 4,  5],\n",
       "        [45, 23]],\n",
       "\n",
       "       [[67,  8],\n",
       "        [12,  5]]])"
      ]
     },
     "execution_count": 38,
     "metadata": {},
     "output_type": "execute_result"
    }
   ],
   "source": [
    "arr_new"
   ]
  },
  {
   "cell_type": "markdown",
   "id": "e1bd08fa",
   "metadata": {},
   "source": [
    "# Numpy Splitting Array\n",
    "we pass the array which we want to split and the number of splits we need inside the array_split func"
   ]
  },
  {
   "cell_type": "code",
   "execution_count": 40,
   "id": "5f76751c",
   "metadata": {},
   "outputs": [
    {
     "data": {
      "text/plain": [
       "[array([34, 56]), array([78, 89]), array([45, 12])]"
      ]
     },
     "execution_count": 40,
     "metadata": {},
     "output_type": "execute_result"
    }
   ],
   "source": [
    "array_split1 = np.array([34,56,78,89,45,12])\n",
    "newarray = np.array_split(array_split1, 3)\n",
    "newarray"
   ]
  },
  {
   "cell_type": "code",
   "execution_count": 41,
   "id": "3e8b392a",
   "metadata": {},
   "outputs": [
    {
     "data": {
      "text/plain": [
       "array([34, 56])"
      ]
     },
     "execution_count": 41,
     "metadata": {},
     "output_type": "execute_result"
    }
   ],
   "source": [
    "#accessing elements from the splitted array\n",
    "newarray[0]"
   ]
  },
  {
   "cell_type": "code",
   "execution_count": 44,
   "id": "fd14557a",
   "metadata": {},
   "outputs": [
    {
     "name": "stdout",
     "output_type": "stream",
     "text": [
      "(array([3], dtype=int64),)\n"
     ]
    }
   ],
   "source": [
    "search_arr = np.array([1,2,3,4,5,6,7])\n",
    "x = np.where(search_arr==4)\n",
    "print(x)"
   ]
  },
  {
   "cell_type": "code",
   "execution_count": 45,
   "id": "a080a166",
   "metadata": {},
   "outputs": [],
   "source": [
    "y = np.searchsorted(search_arr, 4)"
   ]
  },
  {
   "cell_type": "code",
   "execution_count": 46,
   "id": "22f6d9f9",
   "metadata": {},
   "outputs": [
    {
     "data": {
      "text/plain": [
       "3"
      ]
     },
     "execution_count": 46,
     "metadata": {},
     "output_type": "execute_result"
    }
   ],
   "source": [
    "y"
   ]
  },
  {
   "cell_type": "markdown",
   "id": "c2529400",
   "metadata": {},
   "source": [
    "# Sorting Arrays\n",
    "sorting means putting array into sorted sequence"
   ]
  },
  {
   "cell_type": "code",
   "execution_count": 47,
   "id": "402aa413",
   "metadata": {},
   "outputs": [
    {
     "data": {
      "text/plain": [
       "array([2, 3, 4, 5])"
      ]
     },
     "execution_count": 47,
     "metadata": {},
     "output_type": "execute_result"
    }
   ],
   "source": [
    "arr = np.array([3,2,4,5])\n",
    "np.sort(arr)"
   ]
  },
  {
   "cell_type": "code",
   "execution_count": null,
   "id": "dc094216",
   "metadata": {},
   "outputs": [],
   "source": []
  }
 ],
 "metadata": {
  "kernelspec": {
   "display_name": "Python 3 (ipykernel)",
   "language": "python",
   "name": "python3"
  },
  "language_info": {
   "codemirror_mode": {
    "name": "ipython",
    "version": 3
   },
   "file_extension": ".py",
   "mimetype": "text/x-python",
   "name": "python",
   "nbconvert_exporter": "python",
   "pygments_lexer": "ipython3",
   "version": "3.10.9"
  }
 },
 "nbformat": 4,
 "nbformat_minor": 5
}
